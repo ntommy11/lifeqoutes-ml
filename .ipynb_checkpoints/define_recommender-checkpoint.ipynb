{
 "cells": [
  {
   "cell_type": "code",
   "execution_count": 26,
   "id": "95474a2d-d998-469b-87b6-bcc2e0a60dda",
   "metadata": {},
   "outputs": [],
   "source": [
    "import pandas as pd\n",
    "import pickle\n",
    "\n",
    "from numpy import dot\n",
    "from numpy.linalg import norm"
   ]
  },
  {
   "cell_type": "code",
   "execution_count": 9,
   "id": "43092d34-555b-4f64-bf5e-0dc10551d947",
   "metadata": {},
   "outputs": [],
   "source": [
    "with open('vectors.pkl','rb') as f:\n",
    "    vectors = pickle.load(f)"
   ]
  },
  {
   "cell_type": "code",
   "execution_count": 22,
   "id": "91747316-4902-4faa-b9c1-6ca2c73fb507",
   "metadata": {},
   "outputs": [],
   "source": [
    "def cos_sim(a,b):\n",
    "    return dot(a, b)/(norm(a)*norm(b))\n",
    "\n",
    "class Recommender:\n",
    "    def __init__(self):\n",
    "        data = pd.read_csv('train.csv')\n",
    "        sentences = []\n",
    "        for item in data.itertuples():\n",
    "            sentences.append(item.saying)\n",
    "        self.sentences = sentences\n",
    "        with open('vectors.pkl','rb') as f:\n",
    "            self.vectors = pickle.load(f)\n",
    "            \n",
    "    def top5(self, target_id):\n",
    "        target_vector = self.vectors[target_id]\n",
    "        cos_sims = []\n",
    "        for i,vector in enumerate(self.vectors):\n",
    "            cos_sims.append((i,cos_sim(target_vector,vector)))\n",
    "        cos_sims.sort(key=lambda x:x[1], reverse=True)\n",
    "\n",
    "        res = []\n",
    "        for item in cos_sims:\n",
    "            if item[0]!=target_id: res.append(item)\n",
    "            if len(res)==5: break\n",
    "\n",
    "        print(\"target:\",self.sentences[target_id])\n",
    "\n",
    "        print(\"candidates:\")\n",
    "        for i, sim in res:\n",
    "            print(i,self.sentences[i],sim)\n",
    "        return res"
   ]
  },
  {
   "cell_type": "code",
   "execution_count": 23,
   "id": "5e871994-f32b-4411-9c9c-2f4e15ebaff9",
   "metadata": {},
   "outputs": [],
   "source": [
    "rec = Recommender()"
   ]
  },
  {
   "cell_type": "code",
   "execution_count": 24,
   "id": "4467c36c-2e43-4156-a76e-2f618dbf21e1",
   "metadata": {},
   "outputs": [
    {
     "data": {
      "text/plain": [
       "'인생은 하나의 실험이다. 실험이 많아질수록 당신은 더 좋은 사람이 된다.'"
      ]
     },
     "execution_count": 24,
     "metadata": {},
     "output_type": "execute_result"
    }
   ],
   "source": [
    "rec.sentences[0]"
   ]
  },
  {
   "cell_type": "code",
   "execution_count": 27,
   "id": "62ad5e1b-c764-41db-8c82-87f4edd2a8d8",
   "metadata": {},
   "outputs": [
    {
     "name": "stdout",
     "output_type": "stream",
     "text": [
      "target: 인생은 하나의 실험이다. 실험이 많아질수록 당신은 더 좋은 사람이 된다.\n",
      "candidates:\n",
      "5357 인간의 삶 전체는 단지 한 순간에 불과하다. 인생을 즐기자. 0.9958753\n",
      "3658 세월은 누구에게나 공평하게 주어진 자본금이다. 이 자본을 잘 이용한 사람에겐 승리가 있다. 0.9957221\n",
      "5282 삶은 공평하지 않다. 다만 죽음보다는 공평할 뿐이다. 0.9957074\n",
      "652 행복은 보상에 있지 않다. 노력하는 힘 속에서 찾아진다. 0.9954721\n",
      "1932 우리가 사는 환경은 우리가 만들어 가는 것이다. 내가 바뀔 때 인생도 바뀐다. 0.9954436\n"
     ]
    },
    {
     "data": {
      "text/plain": [
       "[(5357, 0.9958753),\n",
       " (3658, 0.9957221),\n",
       " (5282, 0.9957074),\n",
       " (652, 0.9954721),\n",
       " (1932, 0.9954436)]"
      ]
     },
     "execution_count": 27,
     "metadata": {},
     "output_type": "execute_result"
    }
   ],
   "source": [
    "rec.top5(0)"
   ]
  },
  {
   "cell_type": "code",
   "execution_count": null,
   "id": "2f83d61d-6ff7-47ac-9014-db202de9641e",
   "metadata": {},
   "outputs": [],
   "source": []
  }
 ],
 "metadata": {
  "kernelspec": {
   "display_name": "Python 3 (ipykernel)",
   "language": "python",
   "name": "python3"
  },
  "language_info": {
   "codemirror_mode": {
    "name": "ipython",
    "version": 3
   },
   "file_extension": ".py",
   "mimetype": "text/x-python",
   "name": "python",
   "nbconvert_exporter": "python",
   "pygments_lexer": "ipython3",
   "version": "3.8.5"
  }
 },
 "nbformat": 4,
 "nbformat_minor": 5
}
